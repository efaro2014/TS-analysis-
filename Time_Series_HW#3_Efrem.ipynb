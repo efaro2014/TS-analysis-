{
 "cells": [
  {
   "cell_type": "markdown",
   "metadata": {},
   "source": [
    "\n",
    "### 2.  Using the definition of evaluate_arima_model(X, arima_order) and evaluate_models(dataset,p_values, d_values, q_values) inL5-6.ipynbas examples, define a function evaluate_arma_model(X,arma_order) to calculate MAE for ARMA model based on cross validation (split train as67% of the series), and a function evaluate_models(dataset, p_values, q_values) using MAEforARMA(p,q)order selection.No output needed in .pdf file."
   ]
  },
  {
   "cell_type": "code",
   "execution_count": 20,
   "metadata": {
    "ExecuteTime": {
     "end_time": "2021-02-16T04:24:11.428698Z",
     "start_time": "2021-02-16T04:24:11.421437Z"
    }
   },
   "outputs": [],
   "source": [
    "from math import sqrt\n",
    "from statsmodels.tsa.arima_model import ARMA\n",
    "from sklearn.metrics import mean_squared_error\n",
    "from sklearn.metrics import mean_absolute_error\n",
    "import warnings\n",
    "import numpy as np\n",
    "import pandas as pd\n",
    "warnings.filterwarnings(\"ignore\")\n",
    "\n",
    "\n",
    "def evaluate_arma_model(X, arma_order):\n",
    "    train_size = int(len(X) * 0.67)\n",
    "    train, test = X[0:train_size], X[train_size:]\n",
    "    history = [x for x in train]\n",
    "    predictions = list()\n",
    "    for t in range(len(test)):\n",
    "        model = ARMA(history, order=arma_order)\n",
    "        model_fit = model.fit()\n",
    "        yhat = model_fit.forecast()[0]  # predict one step\n",
    "        predictions.append(yhat)  # store prediction\n",
    "        history.append(test[t])  # store observation\n",
    "        # calculate out of sample error\n",
    "    mae = mean_absolute_error(test, predictions)\n",
    "    rmse = sqrt(mean_squared_error(test, predictions))\n",
    "    return mae,  rmse\n",
    "\n",
    "# evaluate combinations of p, d and q values for an ARIMA model\n",
    "\n",
    "\n",
    "def evaluate_models(dataset, p_values, q_values):\n",
    "    best_mae_score, best_rmse_score, best_mae_cfg, best_rmse_cfg = float(\"inf\"), float(\"inf\"), None, None\n",
    "    for p in p_values:\n",
    "        for q in q_values:\n",
    "            order = (p, q)\n",
    "            try: \n",
    "                mae, rmse = evaluate_arma_model(dataset, order)\n",
    "                if rmse < best_rmse_score:\n",
    "                    best_rmse_score, best_rmse_cfg = rmse, order\n",
    "                print('ARMA%s RMSE = %.3f' % (order, rmse))\n",
    "                if mae < best_mae_score:\n",
    "                    best_mae_score, best_mae_cfg = mae, order\n",
    "                print('ARMA%s MAE  = %.3f' % (order, mae))\n",
    "            except:\n",
    "                continue\n",
    "    print('Best ARMA%s RMSE=%.3f' % (best_rmse_cfg, best_rmse_score))\n",
    "    print('Best ARMA%s MAE=%.3f' % (best_mae_cfg, best_mae_score))"
   ]
  },
  {
   "cell_type": "code",
   "execution_count": null,
   "metadata": {},
   "outputs": [],
   "source": []
  },
  {
   "cell_type": "code",
   "execution_count": null,
   "metadata": {},
   "outputs": [],
   "source": []
  },
  {
   "cell_type": "markdown",
   "metadata": {},
   "source": [
    "### 3.  The  datasetpro f it.csvrecorded  the  profits  (in  $k)  of  an  investment  product  in  200  days(positive number shows increased price compared to original price, negative number showsdropped price from original price).  In homework 2, you were asked to identify this data isstationary."
   ]
  },
  {
   "cell_type": "code",
   "execution_count": 21,
   "metadata": {
    "ExecuteTime": {
     "end_time": "2021-02-16T03:45:59.122685Z",
     "start_time": "2021-02-16T03:45:59.102177Z"
    }
   },
   "outputs": [],
   "source": [
    "data = pd.read_csv('profit.csv')"
   ]
  },
  {
   "cell_type": "code",
   "execution_count": null,
   "metadata": {
    "ExecuteTime": {
     "end_time": "2021-02-16T04:04:50.429531Z",
     "start_time": "2021-02-16T04:04:50.424911Z"
    }
   },
   "outputs": [],
   "source": []
  },
  {
   "cell_type": "markdown",
   "metadata": {},
   "source": [
    "### (a)  Perform order selection based on AIC and BIC and provided the choice of orders fromboth ICs (max p=4, max q=4). Do they agree in this case?\n",
    "\n",
    "### ANS--> Both AIC and BIC provided order selection of (1, 0). Yes their agree both at a min order (1,0). "
   ]
  },
  {
   "cell_type": "code",
   "execution_count": 22,
   "metadata": {
    "ExecuteTime": {
     "end_time": "2021-02-16T03:52:42.784084Z",
     "start_time": "2021-02-16T03:52:39.232625Z"
    }
   },
   "outputs": [
    {
     "data": {
      "text/plain": [
       "{'aic':             0           1           2           3           4\n",
       " 0  835.041881  694.680900  626.057480  593.967273  582.995406\n",
       " 1  556.943977  558.864004  559.196959  560.833669  562.799629\n",
       " 2  558.847687  560.295819  560.974390  562.826024  562.849195\n",
       " 3  559.271896  561.171093  562.412436  563.519084  565.501709\n",
       " 4  561.091193  563.081189  563.575093  564.591944  566.591842,\n",
       " 'aic_min_order': (1, 0)}"
      ]
     },
     "execution_count": 22,
     "metadata": {},
     "output_type": "execute_result"
    }
   ],
   "source": [
    "from statsmodels.tsa.stattools import arma_order_select_ic\n",
    "arma_order_select_ic(data.Profit,max_ar=4, max_ma=4, ic='aic')"
   ]
  },
  {
   "cell_type": "code",
   "execution_count": 23,
   "metadata": {
    "ExecuteTime": {
     "end_time": "2021-02-16T03:52:11.186476Z",
     "start_time": "2021-02-16T03:52:07.898119Z"
    }
   },
   "outputs": [
    {
     "data": {
      "text/plain": [
       "{'bic':             0           1           2           3           4\n",
       " 0  841.638516  704.575852  639.250749  610.458860  602.785311\n",
       " 1  566.838930  572.057274  575.688546  580.623573  585.887851\n",
       " 2  572.040957  576.787406  580.764294  585.914245  589.235734\n",
       " 3  575.763483  580.960997  585.500657  589.905623  595.186565\n",
       " 4  580.881097  586.169411  589.961632  594.276800  599.575015,\n",
       " 'bic_min_order': (1, 0)}"
      ]
     },
     "execution_count": 23,
     "metadata": {},
     "output_type": "execute_result"
    }
   ],
   "source": [
    "arma_order_select_ic(data.Profit,max_ar=4, max_ma=4, ic='bic')"
   ]
  },
  {
   "cell_type": "markdown",
   "metadata": {},
   "source": [
    "### (b)  Perform order selection based on RMSE and MAE and cross validation(use the func-tions you have defined from question 2, and use 67% for split) provided the choice oforders. Do they agree?\n",
    "\n",
    "### ANS --> Best ARMA(1, 0) RMSE=0.976 , Best ARMA(0, 4) MAE=0.782 . Both MAE and MSE provided best orders at (0,4). So Yes They agree.\n"
   ]
  },
  {
   "cell_type": "code",
   "execution_count": 24,
   "metadata": {
    "ExecuteTime": {
     "end_time": "2021-02-16T04:24:06.946422Z",
     "start_time": "2021-02-16T04:24:06.943971Z"
    }
   },
   "outputs": [],
   "source": [
    "p_values = range(5)\n",
    "q_values = range(5)"
   ]
  },
  {
   "cell_type": "code",
   "execution_count": 25,
   "metadata": {
    "ExecuteTime": {
     "end_time": "2021-02-16T04:29:09.093550Z",
     "start_time": "2021-02-16T04:24:15.755200Z"
    }
   },
   "outputs": [
    {
     "name": "stdout",
     "output_type": "stream",
     "text": [
      "ARMA(0, 0) RMSE = 1.880\n",
      "ARMA(0, 0) MAE  = 1.543\n",
      "ARMA(0, 1) RMSE = 1.326\n",
      "ARMA(0, 1) MAE  = 1.077\n",
      "ARMA(0, 2) RMSE = 1.097\n",
      "ARMA(0, 2) MAE  = 0.908\n",
      "ARMA(0, 3) RMSE = 1.007\n",
      "ARMA(0, 3) MAE  = 0.787\n",
      "ARMA(0, 4) RMSE = 0.976\n",
      "ARMA(0, 4) MAE  = 0.782\n",
      "ARMA(1, 0) RMSE = 0.988\n",
      "ARMA(1, 0) MAE  = 0.784\n",
      "ARMA(1, 1) RMSE = 0.998\n",
      "ARMA(1, 1) MAE  = 0.796\n",
      "ARMA(1, 2) RMSE = 0.994\n",
      "ARMA(1, 2) MAE  = 0.791\n",
      "ARMA(1, 3) RMSE = 0.996\n",
      "ARMA(1, 3) MAE  = 0.795\n",
      "ARMA(1, 4) RMSE = 1.002\n",
      "ARMA(1, 4) MAE  = 0.803\n",
      "ARMA(2, 0) RMSE = 1.000\n",
      "ARMA(2, 0) MAE  = 0.798\n",
      "ARMA(2, 1) RMSE = 0.998\n",
      "ARMA(2, 1) MAE  = 0.797\n",
      "ARMA(2, 2) RMSE = 1.002\n",
      "ARMA(2, 2) MAE  = 0.802\n",
      "ARMA(2, 3) RMSE = 0.999\n",
      "ARMA(2, 3) MAE  = 0.798\n",
      "ARMA(2, 4) RMSE = 0.999\n",
      "ARMA(2, 4) MAE  = 0.792\n",
      "ARMA(3, 0) RMSE = 0.995\n",
      "ARMA(3, 0) MAE  = 0.791\n",
      "ARMA(3, 1) RMSE = 1.001\n",
      "ARMA(3, 1) MAE  = 0.802\n",
      "ARMA(3, 2) RMSE = 1.010\n",
      "ARMA(3, 2) MAE  = 0.795\n",
      "ARMA(3, 3) RMSE = 1.036\n",
      "ARMA(3, 3) MAE  = 0.832\n",
      "ARMA(3, 4) RMSE = 1.045\n",
      "ARMA(3, 4) MAE  = 0.838\n",
      "ARMA(4, 0) RMSE = 0.999\n",
      "ARMA(4, 0) MAE  = 0.798\n",
      "ARMA(4, 1) RMSE = 1.005\n",
      "ARMA(4, 1) MAE  = 0.800\n",
      "ARMA(4, 2) RMSE = 1.042\n",
      "ARMA(4, 2) MAE  = 0.830\n",
      "ARMA(4, 3) RMSE = 1.029\n",
      "ARMA(4, 3) MAE  = 0.816\n",
      "ARMA(4, 4) RMSE = 1.038\n",
      "ARMA(4, 4) MAE  = 0.824\n",
      "Best ARMA(0, 4) RMSE=0.976\n",
      "Best ARMA(0, 4) MAE=0.782\n"
     ]
    }
   ],
   "source": [
    "evaluate_models(data.Profit.values, p_values, q_values)"
   ]
  },
  {
   "cell_type": "markdown",
   "metadata": {
    "ExecuteTime": {
     "end_time": "2021-02-16T04:03:56.453060Z",
     "start_time": "2021-02-16T04:03:56.450380Z"
    }
   },
   "source": [
    "### (c)  Use a set of orders of your choice from part(a) as your model 1, estimate this ARMAprocess and write out the estimated ARMA equation using the summary table.\n",
    "\n",
    "### ANS --> My mean is 0.6001 and Then the ARMA(1,0) model is Xt = Xt = 0.6001+0.8673(𝑋𝑡-1 - 0.6001) +𝑍𝑡"
   ]
  },
  {
   "cell_type": "code",
   "execution_count": 26,
   "metadata": {
    "ExecuteTime": {
     "end_time": "2021-02-16T04:35:36.220868Z",
     "start_time": "2021-02-16T04:35:36.188964Z"
    }
   },
   "outputs": [
    {
     "data": {
      "text/html": [
       "<table class=\"simpletable\">\n",
       "<caption>ARMA Model Results</caption>\n",
       "<tr>\n",
       "  <th>Dep. Variable:</th>         <td>y</td>        <th>  No. Observations:  </th>    <td>200</td>  \n",
       "</tr>\n",
       "<tr>\n",
       "  <th>Model:</th>            <td>ARMA(1, 0)</td>    <th>  Log Likelihood     </th> <td>-275.472</td>\n",
       "</tr>\n",
       "<tr>\n",
       "  <th>Method:</th>             <td>css-mle</td>     <th>  S.D. of innovations</th>   <td>0.956</td> \n",
       "</tr>\n",
       "<tr>\n",
       "  <th>Date:</th>          <td>Wed, 17 Feb 2021</td> <th>  AIC                </th>  <td>556.944</td>\n",
       "</tr>\n",
       "<tr>\n",
       "  <th>Time:</th>              <td>01:02:08</td>     <th>  BIC                </th>  <td>566.839</td>\n",
       "</tr>\n",
       "<tr>\n",
       "  <th>Sample:</th>                <td>0</td>        <th>  HQIC               </th>  <td>560.948</td>\n",
       "</tr>\n",
       "<tr>\n",
       "  <th></th>                       <td> </td>        <th>                     </th>     <td> </td>   \n",
       "</tr>\n",
       "</table>\n",
       "<table class=\"simpletable\">\n",
       "<tr>\n",
       "     <td></td>        <th>coef</th>     <th>std err</th>      <th>z</th>      <th>P>|z|</th>  <th>[0.025</th>    <th>0.975]</th>  \n",
       "</tr>\n",
       "<tr>\n",
       "  <th>const</th>   <td>    0.6001</td> <td>    0.494</td> <td>    1.215</td> <td> 0.225</td> <td>   -0.368</td> <td>    1.569</td>\n",
       "</tr>\n",
       "<tr>\n",
       "  <th>ar.L1.y</th> <td>    0.8673</td> <td>    0.034</td> <td>   25.150</td> <td> 0.000</td> <td>    0.800</td> <td>    0.935</td>\n",
       "</tr>\n",
       "</table>\n",
       "<table class=\"simpletable\">\n",
       "<caption>Roots</caption>\n",
       "<tr>\n",
       "    <td></td>   <th>            Real</th>  <th>         Imaginary</th> <th>         Modulus</th>  <th>        Frequency</th>\n",
       "</tr>\n",
       "<tr>\n",
       "  <th>AR.1</th> <td>           1.1530</td> <td>          +0.0000j</td> <td>           1.1530</td> <td>           0.0000</td>\n",
       "</tr>\n",
       "</table>"
      ],
      "text/plain": [
       "<class 'statsmodels.iolib.summary.Summary'>\n",
       "\"\"\"\n",
       "                              ARMA Model Results                              \n",
       "==============================================================================\n",
       "Dep. Variable:                      y   No. Observations:                  200\n",
       "Model:                     ARMA(1, 0)   Log Likelihood                -275.472\n",
       "Method:                       css-mle   S.D. of innovations              0.956\n",
       "Date:                Wed, 17 Feb 2021   AIC                            556.944\n",
       "Time:                        01:02:08   BIC                            566.839\n",
       "Sample:                             0   HQIC                           560.948\n",
       "                                                                              \n",
       "==============================================================================\n",
       "                 coef    std err          z      P>|z|      [0.025      0.975]\n",
       "------------------------------------------------------------------------------\n",
       "const          0.6001      0.494      1.215      0.225      -0.368       1.569\n",
       "ar.L1.y        0.8673      0.034     25.150      0.000       0.800       0.935\n",
       "                                    Roots                                    \n",
       "=============================================================================\n",
       "                  Real          Imaginary           Modulus         Frequency\n",
       "-----------------------------------------------------------------------------\n",
       "AR.1            1.1530           +0.0000j            1.1530            0.0000\n",
       "-----------------------------------------------------------------------------\n",
       "\"\"\""
      ]
     },
     "execution_count": 26,
     "metadata": {},
     "output_type": "execute_result"
    }
   ],
   "source": [
    "model_1 = ARMA(data.Profit.values, order=(1,0))\n",
    "mod_1 = model_1.fit()\n",
    "mod_1.summary()"
   ]
  },
  {
   "cell_type": "markdown",
   "metadata": {},
   "source": []
  },
  {
   "cell_type": "markdown",
   "metadata": {},
   "source": [
    "### (d)  Use a set of orders of your choice from part(b) as your model 2, estimate this ARMAprocess and write out the estimated ARMA equation using the summary table.\n",
    "### ANS--> ARMA (0,4) Model: X_t = 0.6818 + 0.9019𝑍𝑡-1 + 0.8486𝑍𝑡-2 + 0.5347𝑍𝑡-3 + 0.2391𝑍𝑡-4 + Zt"
   ]
  },
  {
   "cell_type": "code",
   "execution_count": 27,
   "metadata": {
    "ExecuteTime": {
     "end_time": "2021-02-16T04:35:30.801716Z",
     "start_time": "2021-02-16T04:35:30.685221Z"
    }
   },
   "outputs": [
    {
     "data": {
      "text/html": [
       "<table class=\"simpletable\">\n",
       "<caption>ARMA Model Results</caption>\n",
       "<tr>\n",
       "  <th>Dep. Variable:</th>         <td>y</td>        <th>  No. Observations:  </th>    <td>200</td>  \n",
       "</tr>\n",
       "<tr>\n",
       "  <th>Model:</th>            <td>ARMA(0, 4)</td>    <th>  Log Likelihood     </th> <td>-285.498</td>\n",
       "</tr>\n",
       "<tr>\n",
       "  <th>Method:</th>             <td>css-mle</td>     <th>  S.D. of innovations</th>   <td>1.005</td> \n",
       "</tr>\n",
       "<tr>\n",
       "  <th>Date:</th>          <td>Wed, 17 Feb 2021</td> <th>  AIC                </th>  <td>582.995</td>\n",
       "</tr>\n",
       "<tr>\n",
       "  <th>Time:</th>              <td>01:02:08</td>     <th>  BIC                </th>  <td>602.785</td>\n",
       "</tr>\n",
       "<tr>\n",
       "  <th>Sample:</th>                <td>0</td>        <th>  HQIC               </th>  <td>591.004</td>\n",
       "</tr>\n",
       "<tr>\n",
       "  <th></th>                       <td> </td>        <th>                     </th>     <td> </td>   \n",
       "</tr>\n",
       "</table>\n",
       "<table class=\"simpletable\">\n",
       "<tr>\n",
       "     <td></td>        <th>coef</th>     <th>std err</th>      <th>z</th>      <th>P>|z|</th>  <th>[0.025</th>    <th>0.975]</th>  \n",
       "</tr>\n",
       "<tr>\n",
       "  <th>const</th>   <td>    0.6818</td> <td>    0.249</td> <td>    2.741</td> <td> 0.006</td> <td>    0.194</td> <td>    1.169</td>\n",
       "</tr>\n",
       "<tr>\n",
       "  <th>ma.L1.y</th> <td>    0.9019</td> <td>    0.069</td> <td>   13.148</td> <td> 0.000</td> <td>    0.767</td> <td>    1.036</td>\n",
       "</tr>\n",
       "<tr>\n",
       "  <th>ma.L2.y</th> <td>    0.8486</td> <td>    0.084</td> <td>   10.155</td> <td> 0.000</td> <td>    0.685</td> <td>    1.012</td>\n",
       "</tr>\n",
       "<tr>\n",
       "  <th>ma.L3.y</th> <td>    0.5347</td> <td>    0.078</td> <td>    6.883</td> <td> 0.000</td> <td>    0.382</td> <td>    0.687</td>\n",
       "</tr>\n",
       "<tr>\n",
       "  <th>ma.L4.y</th> <td>    0.2391</td> <td>    0.065</td> <td>    3.673</td> <td> 0.000</td> <td>    0.112</td> <td>    0.367</td>\n",
       "</tr>\n",
       "</table>\n",
       "<table class=\"simpletable\">\n",
       "<caption>Roots</caption>\n",
       "<tr>\n",
       "    <td></td>   <th>            Real</th>  <th>         Imaginary</th> <th>         Modulus</th>  <th>        Frequency</th>\n",
       "</tr>\n",
       "<tr>\n",
       "  <th>MA.1</th> <td>           0.1191</td> <td>          -1.3189j</td> <td>           1.3243</td> <td>          -0.2357</td>\n",
       "</tr>\n",
       "<tr>\n",
       "  <th>MA.2</th> <td>           0.1191</td> <td>          +1.3189j</td> <td>           1.3243</td> <td>           0.2357</td>\n",
       "</tr>\n",
       "<tr>\n",
       "  <th>MA.3</th> <td>          -1.2372</td> <td>          -0.9240j</td> <td>           1.5442</td> <td>          -0.3979</td>\n",
       "</tr>\n",
       "<tr>\n",
       "  <th>MA.4</th> <td>          -1.2372</td> <td>          +0.9240j</td> <td>           1.5442</td> <td>           0.3979</td>\n",
       "</tr>\n",
       "</table>"
      ],
      "text/plain": [
       "<class 'statsmodels.iolib.summary.Summary'>\n",
       "\"\"\"\n",
       "                              ARMA Model Results                              \n",
       "==============================================================================\n",
       "Dep. Variable:                      y   No. Observations:                  200\n",
       "Model:                     ARMA(0, 4)   Log Likelihood                -285.498\n",
       "Method:                       css-mle   S.D. of innovations              1.005\n",
       "Date:                Wed, 17 Feb 2021   AIC                            582.995\n",
       "Time:                        01:02:08   BIC                            602.785\n",
       "Sample:                             0   HQIC                           591.004\n",
       "                                                                              \n",
       "==============================================================================\n",
       "                 coef    std err          z      P>|z|      [0.025      0.975]\n",
       "------------------------------------------------------------------------------\n",
       "const          0.6818      0.249      2.741      0.006       0.194       1.169\n",
       "ma.L1.y        0.9019      0.069     13.148      0.000       0.767       1.036\n",
       "ma.L2.y        0.8486      0.084     10.155      0.000       0.685       1.012\n",
       "ma.L3.y        0.5347      0.078      6.883      0.000       0.382       0.687\n",
       "ma.L4.y        0.2391      0.065      3.673      0.000       0.112       0.367\n",
       "                                    Roots                                    \n",
       "=============================================================================\n",
       "                  Real          Imaginary           Modulus         Frequency\n",
       "-----------------------------------------------------------------------------\n",
       "MA.1            0.1191           -1.3189j            1.3243           -0.2357\n",
       "MA.2            0.1191           +1.3189j            1.3243            0.2357\n",
       "MA.3           -1.2372           -0.9240j            1.5442           -0.3979\n",
       "MA.4           -1.2372           +0.9240j            1.5442            0.3979\n",
       "-----------------------------------------------------------------------------\n",
       "\"\"\""
      ]
     },
     "execution_count": 27,
     "metadata": {},
     "output_type": "execute_result"
    }
   ],
   "source": [
    "model_2 = ARMA(data.Profit.values, order=(0,4))\n",
    "mod_2 = model_2.fit()\n",
    "mod_2.summary()"
   ]
  },
  {
   "cell_type": "markdown",
   "metadata": {},
   "source": []
  },
  {
   "cell_type": "markdown",
   "metadata": {},
   "source": [
    "### (e)  Plot forecast of 20 steps out of the given data using model 1 and model 2 (hint: start=0,end=sample  size+19).   Just  by  observing  how  the  forecasting  following  the  originaldata, which model do you think performed better? or they performed similarly?\n",
    "\n",
    "### ANS --> Model 1 predicted from AIC and BIC seems to perform better since the observed data and the forecast are going close tat each step(the estimation is pretty close to the observed data). In the second model which was based on the RMSE and MAE there is some difference in the forecast and the observed data. \n"
   ]
  },
  {
   "cell_type": "code",
   "execution_count": 52,
   "metadata": {
    "ExecuteTime": {
     "end_time": "2021-02-16T04:41:23.770798Z",
     "start_time": "2021-02-16T04:41:23.489901Z"
    }
   },
   "outputs": [
    {
     "data": {
      "image/png": "[encoded data removed]",
      "text/plain": [
       "<Figure size 432x288 with 1 Axes>"
      ]
     },
     "metadata": {
      "needs_background": "light"
     },
     "output_type": "display_data"
    },
    {
     "data": {
      "image/png": "[encoded data removed]",
      "text/plain": [
       "<Figure size 432x288 with 1 Axes>"
      ]
     },
     "metadata": {
      "needs_background": "light"
     },
     "output_type": "display_data"
    }
   ],
   "source": [
    "import matplotlib.pyplot as plt\n",
    "mod_1.plot_predict(start=0, end=219)\n",
    "mod_2.plot_predict(start=0, end=219)\n",
    "plt.tight_layout()\n",
    "plt.show()"
   ]
  },
  {
   "cell_type": "markdown",
   "metadata": {},
   "source": [
    "### (f)  We  have  defined  the  function  to  use  one-step  rolling  cross  validation.   Read  it  verycarefully and define function(s) in python to evaluate ARMA performance by usingh=2, 3 and 4 steps rolling cross validation(you don’t have to follow how I did it), andreport the RSME of 1-step, 2-step, 3-step and 4-step forecasting for model 1 and model2:RMSE1-step2-step3-step4-stepModel 1Model 2"
   ]
  },
  {
   "cell_type": "code",
   "execution_count": 28,
   "metadata": {
    "ExecuteTime": {
     "end_time": "2021-02-16T05:02:07.312594Z",
     "start_time": "2021-02-16T05:02:07.307068Z"
    }
   },
   "outputs": [],
   "source": [
    "def evaluate_arma_model_steps(X, arma_order, step=1):\n",
    "    train_size = int(len(X) * 0.67)\n",
    "    train, test = X[0:train_size], X[train_size:]\n",
    "    history = [x for x in train]\n",
    "    predictions = list()\n",
    "    for t in range(len(test)):\n",
    "        model = ARMA(history, order=arma_order)\n",
    "        model_fit = model.fit()\n",
    "        yhat = model_fit.forecast(steps=step)[0][step-1] #predict one step\n",
    "        predictions.append(yhat) #store prediction\n",
    "        history.append(test[t]) #store observation\n",
    "        # calculate out of sample error\n",
    "    rmse = sqrt(mean_squared_error(test, predictions))\n",
    "    return rmse\n",
    "\n",
    "# evaluate combinations of p, d and q values for an ARIMA model\n",
    "def evaluate_rmse_models_steps(dataset, p_value, q_value, step=1):\n",
    "    best_score, best_cfg = float(\"inf\"), None\n",
    "    order = (p_value, q_value)\n",
    "    try:\n",
    "        rmse = evaluate_arma_model_steps(dataset, order, step)\n",
    "        if rmse < best_score:\n",
    "            best_score, best_cfg = rmse, order\n",
    "            print('ARMA%s, Step=%s, RMSE=%.3f' % (order, step, rmse))\n",
    "    except:\n",
    "        pass"
   ]
  },
  {
   "cell_type": "markdown",
   "metadata": {},
   "source": [
    "### Model 1 "
   ]
  },
  {
   "cell_type": "code",
   "execution_count": 29,
   "metadata": {},
   "outputs": [
    {
     "name": "stdout",
     "output_type": "stream",
     "text": [
      "ARMA(1, 0), Step=1, RMSE=0.988\n",
      "ARMA(1, 0), Step=2, RMSE=0.989\n",
      "ARMA(1, 0), Step=3, RMSE=1.020\n",
      "ARMA(1, 0), Step=4, RMSE=1.069\n"
     ]
    }
   ],
   "source": [
    "evaluate_rmse_models_steps(data.Profit.values, 1, 0, 1)\n",
    "evaluate_rmse_models_steps(data.Profit.values, 1, 0, 2)\n",
    "evaluate_rmse_models_steps(data.Profit.values, 1, 0, 3)\n",
    "evaluate_rmse_models_steps(data.Profit.values, 1, 0, 4)"
   ]
  },
  {
   "cell_type": "markdown",
   "metadata": {},
   "source": [
    "### Model 2"
   ]
  },
  {
   "cell_type": "code",
   "execution_count": 101,
   "metadata": {
    "ExecuteTime": {
     "end_time": "2021-02-16T05:02:30.997527Z",
     "start_time": "2021-02-16T05:02:14.711343Z"
    }
   },
   "outputs": [
    {
     "name": "stdout",
     "output_type": "stream",
     "text": [
      "ARMA(0, 4), Step=1, RMSE=0.976\n",
      "ARMA(0, 4), Step=2, RMSE=1.859\n",
      "ARMA(0, 4), Step=3, RMSE=1.859\n",
      "ARMA(0, 4), Step=4, RMSE=1.859\n"
     ]
    }
   ],
   "source": [
    "evaluate_rmse_models_steps(data.Profit.values, 0, 4, 1)\n",
    "evaluate_rmse_models_steps(data.Profit.values, 0, 4, 2)\n",
    "evaluate_rmse_models_steps(data.Profit.values, 0, 4, 3)\n",
    "evaluate_rmse_models_steps(data.Profit.values, 0, 4, 4)"
   ]
  },
  {
   "cell_type": "code",
   "execution_count": 16,
   "metadata": {
    "ExecuteTime": {
     "end_time": "2021-02-16T05:12:27.189225Z",
     "start_time": "2021-02-16T05:12:27.182943Z"
    }
   },
   "outputs": [],
   "source": [
    "from statsmodels.tsa.arima.model import ARIMA\n",
    "from sklearn.metrics import mean_squared_error\n",
    "import warnings\n",
    "from math import sqrt\n",
    "def evaluate_arima_model_steps(X, arima_order, steps):\n",
    "    train_size = int(len(X) * 0.67)\n",
    "    train, test = X[0:train_size], X[train_size:]\n",
    "    rmse_list = []\n",
    "    for step in steps:\n",
    "        history = [x for x in train]\n",
    "        predictions = list()\n",
    "        for t in range(len(test)):\n",
    "            model = ARIMA(history, order=arima_order)\n",
    "            model_fit = model.fit()\n",
    "    #         print(model_fit.forecast(steps=step))\n",
    "            yhat = model_fit.forecast(steps=step)[step-1] #predict one step\n",
    "            predictions.append(yhat) #store prediction\n",
    "            history.append(test[t]) #store observation\n",
    "        # calculate out of sample error\n",
    "        rmse = sqrt(mean_squared_error(test, predictions))\n",
    "        rmse_list.append(rmse)\n",
    "    return rmse_list\n"
   ]
  },
  {
   "cell_type": "code",
   "execution_count": 17,
   "metadata": {
    "ExecuteTime": {
     "end_time": "2021-02-16T05:04:05.349562Z",
     "start_time": "2021-02-16T05:03:59.326072Z"
    }
   },
   "outputs": [
    {
     "data": {
      "text/plain": [
       "[0.9759833156607409,\n",
       " 1.1579016956903379,\n",
       " 1.469283446199942,\n",
       " 1.726006067267555,\n",
       " 1.8590672511714068]"
      ]
     },
     "execution_count": 17,
     "metadata": {},
     "output_type": "execute_result"
    }
   ],
   "source": [
    "evaluate_arima_model_steps(data.Profit.values, (0, 0, 4), [1, 2, 3, 4, 5])"
   ]
  },
  {
   "cell_type": "code",
   "execution_count": null,
   "metadata": {
    "ExecuteTime": {
     "end_time": "2021-02-16T05:04:26.309714Z",
     "start_time": "2021-02-16T05:04:09.595298Z"
    }
   },
   "outputs": [],
   "source": []
  },
  {
   "cell_type": "code",
   "execution_count": null,
   "metadata": {
    "ExecuteTime": {
     "end_time": "2021-02-16T05:13:49.083832Z",
     "start_time": "2021-02-16T05:13:11.093371Z"
    }
   },
   "outputs": [],
   "source": []
  },
  {
   "cell_type": "code",
   "execution_count": null,
   "metadata": {
    "ExecuteTime": {
     "end_time": "2021-02-16T05:20:05.781488Z",
     "start_time": "2021-02-16T05:20:05.776279Z"
    }
   },
   "outputs": [],
   "source": []
  },
  {
   "cell_type": "code",
   "execution_count": null,
   "metadata": {
    "ExecuteTime": {
     "end_time": "2021-02-16T05:22:45.600567Z",
     "start_time": "2021-02-16T05:22:24.910787Z"
    }
   },
   "outputs": [],
   "source": []
  },
  {
   "cell_type": "code",
   "execution_count": null,
   "metadata": {},
   "outputs": [],
   "source": []
  }
 ],
 "metadata": {
  "kernelspec": {
   "display_name": "Python 3",
   "language": "python",
   "name": "python3"
  },
  "language_info": {
   "codemirror_mode": {
    "name": "ipython",
    "version": 3
   },
   "file_extension": ".py",
   "mimetype": "text/x-python",
   "name": "python",
   "nbconvert_exporter": "python",
   "pygments_lexer": "ipython3",
   "version": "3.8.3"
  },
  "varInspector": {
   "cols": {
    "lenName": 16,
    "lenType": 16,
    "lenVar": 40
   },
   "kernels_config": {
    "python": {
     "delete_cmd_postfix": "",
     "delete_cmd_prefix": "del ",
     "library": "var_list.py",
     "varRefreshCmd": "print(var_dic_list())"
    },
    "r": {
     "delete_cmd_postfix": ") ",
     "delete_cmd_prefix": "rm(",
     "library": "var_list.r",
     "varRefreshCmd": "cat(var_dic_list()) "
    }
   },
   "types_to_exclude": [
    "module",
    "function",
    "builtin_function_or_method",
    "instance",
    "_Feature"
   ],
   "window_display": false
  }
 },
 "nbformat": 4,
 "nbformat_minor": 5
}
